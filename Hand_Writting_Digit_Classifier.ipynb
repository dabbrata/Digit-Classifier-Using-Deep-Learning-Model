{
 "cells": [
  {
   "cell_type": "code",
   "execution_count": 1,
   "id": "94c3d65a",
   "metadata": {},
   "outputs": [],
   "source": [
    "import cv2\n",
    "import numpy as np\n",
    "import matplotlib.pyplot as plt"
   ]
  },
  {
   "cell_type": "code",
   "execution_count": 2,
   "id": "f21f70c5",
   "metadata": {},
   "outputs": [],
   "source": [
    "from keras.datasets import mnist\n"
   ]
  },
  {
   "cell_type": "code",
   "execution_count": 3,
   "id": "fc3439c4",
   "metadata": {},
   "outputs": [
    {
     "name": "stdout",
     "output_type": "stream",
     "text": [
      "(60000, 28, 28)\n",
      "(60000,)\n",
      "(10000, 28, 28)\n",
      "(10000,)\n"
     ]
    }
   ],
   "source": [
    "(x_train,y_train),(x_test,y_test) = mnist.load_data()\n",
    "print(x_train.shape)\n",
    "print(y_train.shape)\n",
    "print(x_test.shape)\n",
    "print(y_test.shape)"
   ]
  },
  {
   "cell_type": "code",
   "execution_count": 4,
   "id": "3448b0b4",
   "metadata": {},
   "outputs": [],
   "source": [
    "# visulaize some sample data of mnist dataset"
   ]
  },
  {
   "cell_type": "code",
   "execution_count": 6,
   "id": "66d11e6e",
   "metadata": {},
   "outputs": [],
   "source": [
    "for i in range(0,6):\n",
    "    random_number = np.random.randint(0,len(x_train))\n",
    "    img = x_train[random_number]\n",
    "    cv2.imshow(str(random_number),img)\n",
    "    cv2.waitKey(0)\n",
    "cv2.destroyAllWindows()    "
   ]
  },
  {
   "cell_type": "code",
   "execution_count": 7,
   "id": "c5e811a8",
   "metadata": {},
   "outputs": [
    {
     "data": {
      "image/png": "[encoded data removed]",
      "text/plain": [
       "<Figure size 640x480 with 6 Axes>"
      ]
     },
     "metadata": {},
     "output_type": "display_data"
    }
   ],
   "source": [
    "fig,ax = plt.subplots(2,3)\n",
    "random_number = np.random.randint(0,len(x_train))\n",
    "img = x_train[random_number]\n",
    "ax[0,0].imshow(img,'gray')\n",
    "\n",
    "random_number = np.random.randint(0,len(x_train))\n",
    "img = x_train[random_number]\n",
    "ax[0,1].imshow(img,'gray')\n",
    "\n",
    "random_number = np.random.randint(0,len(x_train))\n",
    "img = x_train[random_number]\n",
    "ax[0,2].imshow(img,'gray')\n",
    "\n",
    "random_number = np.random.randint(0,len(x_train))\n",
    "img = x_train[random_number]\n",
    "ax[1,0].imshow(img,'gray')\n",
    "\n",
    "random_number = np.random.randint(0,len(x_train))\n",
    "img = x_train[random_number]\n",
    "ax[1,1].imshow(img,'gray')\n",
    "\n",
    "random_number = np.random.randint(0,len(x_train))\n",
    "img = x_train[random_number]\n",
    "ax[1,2].imshow(img,'gray')\n",
    "\n",
    "plt.show()\n"
   ]
  },
  {
   "cell_type": "code",
   "execution_count": 8,
   "id": "1ce94b84",
   "metadata": {},
   "outputs": [],
   "source": [
    "# prepare mnist dataset for the training"
   ]
  },
  {
   "cell_type": "code",
   "execution_count": 9,
   "id": "ee53c57f",
   "metadata": {},
   "outputs": [
    {
     "name": "stdout",
     "output_type": "stream",
     "text": [
      "(60000, 28, 28, 1)\n",
      "(10000, 28, 28, 1)\n"
     ]
    }
   ],
   "source": [
    "#reshape the image\n",
    "img_rows = x_train[0].shape[0]\n",
    "img_cols = x_train[0].shape[1]\n",
    "#reshape it to four dimensional as mnist required it\n",
    "x_train = x_train.reshape(x_train.shape[0],img_rows,img_cols,1).astype('float32')\n",
    "x_test = x_test.reshape(x_test.shape[0],img_rows,img_cols,1).astype('float32')\n",
    "#store shape of the single image\n",
    "input_shape = (img_rows,img_cols,1)\n",
    "#normalize the reshaped data\n",
    "x_train /= 255\n",
    "x_test /= 255\n",
    "\n",
    "print(x_train.shape)\n",
    "print(x_test.shape)\n"
   ]
  },
  {
   "cell_type": "code",
   "execution_count": 10,
   "id": "2c56b0b6",
   "metadata": {},
   "outputs": [],
   "source": [
    "# Hot coding the models"
   ]
  },
  {
   "cell_type": "code",
   "execution_count": 11,
   "id": "ef9e5ca6",
   "metadata": {},
   "outputs": [
    {
     "name": "stdout",
     "output_type": "stream",
     "text": [
      "(60000, 10)\n",
      "number of category : 10\n",
      "(60000, 28, 28, 1)\n"
     ]
    }
   ],
   "source": [
    "# make it ten category and with 600000 data with 600000x10 matrix and each row the value index will be one and others zero\n",
    "\n",
    "#from keras.utils import np_utils\n",
    "#from keras.utils import np_utils\n",
    "from keras.utils import to_categorical\n",
    "\n",
    "y_train = to_categorical(y_train)\n",
    "y_test = to_categorical(y_test)\n",
    "\n",
    "print(y_train.shape)\n",
    "print(\"number of category : \" + str(y_train.shape[1]))\n",
    "print(x_train.shape)\n",
    "\n",
    "num_classes = y_train.shape[1]\n",
    "num_pixels = x_train.shape[1] * x_train.shape[2]"
   ]
  },
  {
   "cell_type": "code",
   "execution_count": 12,
   "id": "0a234010",
   "metadata": {},
   "outputs": [],
   "source": [
    "# create our model"
   ]
  },
  {
   "cell_type": "code",
   "execution_count": 13,
   "id": "44bff8ed",
   "metadata": {},
   "outputs": [],
   "source": [
    "import keras\n",
    "from keras.datasets import mnist\n",
    "from keras.models import Sequential\n",
    "from keras.layers import Dense,Dropout,Flatten\n",
    "from keras.layers import Conv2D,MaxPooling2D\n",
    "from keras import backend as k\n",
    "from keras.optimizers import SGD"
   ]
  },
  {
   "cell_type": "code",
   "execution_count": 14,
   "id": "7788e289",
   "metadata": {},
   "outputs": [
    {
     "name": "stdout",
     "output_type": "stream",
     "text": [
      "Model: \"sequential_1\"\n",
      "_________________________________________________________________\n",
      " Layer (type)                Output Shape              Param #   \n",
      "=================================================================\n",
      " conv2d (Conv2D)             (None, 26, 26, 32)        320       \n",
      "                                                                 \n",
      " conv2d_1 (Conv2D)           (None, 24, 24, 64)        18496     \n",
      "                                                                 \n",
      " dropout (Dropout)           (None, 24, 24, 64)        0         \n",
      "                                                                 \n",
      " flatten (Flatten)           (None, 36864)             0         \n",
      "                                                                 \n",
      " dense (Dense)               (None, 128)               4718720   \n",
      "                                                                 \n",
      " dropout_1 (Dropout)         (None, 128)               0         \n",
      "                                                                 \n",
      " dense_1 (Dense)             (None, 10)                1290      \n",
      "                                                                 \n",
      "=================================================================\n",
      "Total params: 4738826 (18.08 MB)\n",
      "Trainable params: 4738826 (18.08 MB)\n",
      "Non-trainable params: 0 (0.00 Byte)\n",
      "_________________________________________________________________\n",
      "None\n"
     ]
    }
   ],
   "source": [
    "model = Sequential()\n",
    "model.add(Conv2D(32,kernel_size=(3,3),activation='relu',input_shape=input_shape))\n",
    "model.add(Conv2D(64,(3,3),activation='relu'))\n",
    "model.add(Dropout(0.25))\n",
    "model.add(Flatten())\n",
    "model.add(Dense(128,activation='relu'))\n",
    "model.add(Dropout(0.5))\n",
    "model.add(Dense(num_classes,activation='softmax'))\n",
    "\n",
    "model.compile(loss='categorical_crossentropy',optimizer=SGD(0.01),metrics=['accuracy'])\n",
    "print(model.summary())"
   ]
  },
  {
   "cell_type": "code",
   "execution_count": 14,
   "id": "1f479cba",
   "metadata": {},
   "outputs": [],
   "source": [
    "#train the model"
   ]
  },
  {
   "cell_type": "code",
   "execution_count": 20,
   "id": "f5d40cf3",
   "metadata": {},
   "outputs": [
    {
     "name": "stdout",
     "output_type": "stream",
     "text": [
      "Epoch 1/15\n",
      "1875/1875 [==============================] - 172s 92ms/step - loss: 0.4730 - accuracy: 0.8562 - val_loss: 0.2046 - val_accuracy: 0.9410\n",
      "Epoch 2/15\n",
      "1875/1875 [==============================] - 158s 84ms/step - loss: 0.2709 - accuracy: 0.9192 - val_loss: 0.1364 - val_accuracy: 0.9614\n",
      "Epoch 3/15\n",
      "1875/1875 [==============================] - 152s 81ms/step - loss: 0.2205 - accuracy: 0.9340 - val_loss: 0.1176 - val_accuracy: 0.9657\n",
      "Epoch 4/15\n",
      "1875/1875 [==============================] - 164s 88ms/step - loss: 0.1895 - accuracy: 0.9438 - val_loss: 0.0971 - val_accuracy: 0.9700\n",
      "Epoch 5/15\n",
      "1875/1875 [==============================] - 165s 88ms/step - loss: 0.1569 - accuracy: 0.9536 - val_loss: 0.0789 - val_accuracy: 0.9770\n",
      "Epoch 6/15\n",
      "1875/1875 [==============================] - 152s 81ms/step - loss: 0.1342 - accuracy: 0.9601 - val_loss: 0.0678 - val_accuracy: 0.9784\n",
      "Epoch 7/15\n",
      "1875/1875 [==============================] - 151s 81ms/step - loss: 0.1173 - accuracy: 0.9647 - val_loss: 0.0613 - val_accuracy: 0.9817\n",
      "Epoch 8/15\n",
      "1875/1875 [==============================] - 155s 82ms/step - loss: 0.1011 - accuracy: 0.9690 - val_loss: 0.0568 - val_accuracy: 0.9825\n",
      "Epoch 9/15\n",
      "1875/1875 [==============================] - 160s 85ms/step - loss: 0.0923 - accuracy: 0.9717 - val_loss: 0.0549 - val_accuracy: 0.9823\n",
      "Epoch 10/15\n",
      "1875/1875 [==============================] - 150s 80ms/step - loss: 0.0839 - accuracy: 0.9745 - val_loss: 0.0497 - val_accuracy: 0.9837\n",
      "Epoch 11/15\n",
      "1875/1875 [==============================] - 156s 83ms/step - loss: 0.0740 - accuracy: 0.9771 - val_loss: 0.0451 - val_accuracy: 0.9858\n",
      "Epoch 12/15\n",
      "1875/1875 [==============================] - 144s 77ms/step - loss: 0.0719 - accuracy: 0.9780 - val_loss: 0.0467 - val_accuracy: 0.9851\n",
      "Epoch 13/15\n",
      "1875/1875 [==============================] - 147s 78ms/step - loss: 0.0646 - accuracy: 0.9801 - val_loss: 0.0458 - val_accuracy: 0.9849\n",
      "Epoch 14/15\n",
      "1875/1875 [==============================] - 148s 79ms/step - loss: 0.0616 - accuracy: 0.9806 - val_loss: 0.0421 - val_accuracy: 0.9863\n",
      "Epoch 15/15\n",
      "1875/1875 [==============================] - 153s 81ms/step - loss: 0.0556 - accuracy: 0.9820 - val_loss: 0.0405 - val_accuracy: 0.9872\n",
      "Test Loss :  0.04049460589885712\n",
      "Test Accuracy :  0.9872000217437744\n"
     ]
    }
   ],
   "source": [
    "batch_size = 32\n",
    "epochs = 15\n",
    "history = model.fit(x_train,y_train,batch_size = batch_size,epochs=epochs,verbose=1,validation_data = (x_test,y_test))\n",
    "score = model.evaluate(x_test,y_test,verbose=0)  \n",
    "print('Test Loss : ',score[0])\n",
    "print('Test Accuracy : ',score[1])"
   ]
  },
  {
   "cell_type": "code",
   "execution_count": 21,
   "id": "0f82c4d2",
   "metadata": {},
   "outputs": [
    {
     "data": {
      "image/png": "[encoded data removed]",
      "text/plain": [
       "<Figure size 640x480 with 1 Axes>"
      ]
     },
     "metadata": {},
     "output_type": "display_data"
    }
   ],
   "source": [
    "history_dict = history.history\n",
    "acc_values = history_dict['accuracy']\n",
    "val_acc_values = history_dict['val_accuracy']\n",
    "loss_values = history_dict['loss']\n",
    "epoches = range(1,len(loss_values)+1)\n",
    "\n",
    "\n",
    "line1 = plt.plot(val_acc_values,label='Test Accuracy')\n",
    "line2 = plt.plot(acc_values,label='Training Accuracy')\n",
    "\n",
    "plt.setp(line1,linewidth=2.0,marker='+',markersize=10.0)\n",
    "plt.setp(line2,linewidth=2.0,marker='4',markersize=10.0)\n",
    "\n",
    "plt.title('Model Accuracy')\n",
    "plt.xlabel('Epochs')\n",
    "plt.ylabel('Accuracy')\n",
    "plt.grid(True)\n",
    "plt.legend()\n",
    "plt.show()"
   ]
  },
  {
   "cell_type": "code",
   "execution_count": 22,
   "id": "6edbb4e9",
   "metadata": {},
   "outputs": [
    {
     "data": {
      "image/png": "[encoded data removed]",
      "text/plain": [
       "<Figure size 640x480 with 1 Axes>"
      ]
     },
     "metadata": {},
     "output_type": "display_data"
    }
   ],
   "source": [
    "# \"Loss\"\n",
    "plt.plot(history.history['loss'])\n",
    "plt.plot(history.history['val_loss'])\n",
    "plt.title('model loss')\n",
    "plt.ylabel('loss')\n",
    "plt.xlabel('epoch')\n",
    "plt.legend(['train', 'validation'], loc='upper left')\n",
    "plt.show()"
   ]
  },
  {
   "cell_type": "code",
   "execution_count": 23,
   "id": "64be6413",
   "metadata": {},
   "outputs": [],
   "source": [
    "# save the trained model"
   ]
  },
  {
   "cell_type": "code",
   "execution_count": 24,
   "id": "abfcd50c",
   "metadata": {},
   "outputs": [
    {
     "name": "stdout",
     "output_type": "stream",
     "text": [
      "INFO:tensorflow:Assets written to: F:/4.2(Advanced)/THESIS_RELATED/digit_classifier_model\\assets\n"
     ]
    },
    {
     "name": "stderr",
     "output_type": "stream",
     "text": [
      "INFO:tensorflow:Assets written to: F:/4.2(Advanced)/THESIS_RELATED/digit_classifier_model\\assets\n"
     ]
    },
    {
     "name": "stdout",
     "output_type": "stream",
     "text": [
      "Model saved.\n"
     ]
    }
   ],
   "source": [
    "model.save('F:/4.2(Advanced)/THESIS_RELATED/digit_classifier_model')\n",
    "print('Model saved.')"
   ]
  },
  {
   "cell_type": "code",
   "execution_count": 25,
   "id": "fc736684",
   "metadata": {},
   "outputs": [],
   "source": [
    "# Loading the model"
   ]
  },
  {
   "cell_type": "code",
   "execution_count": 26,
   "id": "70aa9c12",
   "metadata": {},
   "outputs": [
    {
     "name": "stdout",
     "output_type": "stream",
     "text": [
      "model loaded\n"
     ]
    }
   ],
   "source": [
    "from keras.models import load_model\n",
    "classifier = load_model('F:/4.2(Advanced)/THESIS_RELATED/digit_classifier_model')\n",
    "print('model loaded')"
   ]
  },
  {
   "cell_type": "code",
   "execution_count": 27,
   "id": "b8890c4b",
   "metadata": {},
   "outputs": [],
   "source": [
    "#lets test take input some test data and find and classify the original result"
   ]
  },
  {
   "cell_type": "code",
   "execution_count": 28,
   "id": "8d17c09d",
   "metadata": {},
   "outputs": [
    {
     "name": "stdout",
     "output_type": "stream",
     "text": [
      "[0 0 0 0 1 0 0 0 0 0]\n",
      "4\n",
      "[0 0 1 0 0 0 0 0 0 0]\n",
      "2\n",
      "[0 0 0 0 1 0 0 0 0 0]\n",
      "4\n",
      "[0 0 1 0 0 0 0 0 0 0]\n",
      "2\n",
      "[0 0 0 0 0 0 0 0 0 1]\n",
      "9\n"
     ]
    }
   ],
   "source": [
    "def drawTest(predict,input_image):\n",
    "    #print(prediction)\n",
    "    #print(input_image)\n",
    "    res_arr = (predict//max(predict)).astype(int)\n",
    "    print(res_arr)\n",
    "    res = -1\n",
    "    for i in range (0,10):\n",
    "        if res_arr[i]==1:\n",
    "            res = i\n",
    "            break\n",
    "    print(res)  \n",
    "    input_image = cv2.copyMakeBorder(input_image,0,0,0,input_image.shape[0],cv2.BORDER_CONSTANT,value=(0,0,0))\n",
    "    input_image = cv2.cvtColor(input_image,cv2.COLOR_GRAY2BGR)\n",
    "    cv2.putText(input_image,str(res),(150,80),cv2.FONT_HERSHEY_COMPLEX_SMALL,4,(0,255,0),2)\n",
    "    cv2.imshow(\"result\",input_image)\n",
    "\n",
    "for i in range(0,5):\n",
    "    rand = np.random.randint(0,len(x_test))\n",
    "    input_i = x_test[rand]\n",
    "    imageL = cv2.resize(input_i,None,fx=4,fy=4,interpolation = cv2.INTER_CUBIC)\n",
    "    input_i = input_i.reshape(1,28,28,1)\n",
    "    \n",
    "    #get prediction\n",
    "    output = (classifier. predict(input_i,1,verbose=0)[0])\n",
    "    drawTest(output,imageL)\n",
    "    cv2.waitKey(0)\n",
    "cv2.destroyAllWindows()"
   ]
  },
  {
   "cell_type": "code",
   "execution_count": null,
   "id": "e82004c4",
   "metadata": {},
   "outputs": [],
   "source": []
  }
 ],
 "metadata": {
  "kernelspec": {
   "display_name": "Python 3 (ipykernel)",
   "language": "python",
   "name": "python3"
  },
  "language_info": {
   "codemirror_mode": {
    "name": "ipython",
    "version": 3
   },
   "file_extension": ".py",
   "mimetype": "text/x-python",
   "name": "python",
   "nbconvert_exporter": "python",
   "pygments_lexer": "ipython3",
   "version": "3.11.4"
  }
 },
 "nbformat": 4,
 "nbformat_minor": 5
}
